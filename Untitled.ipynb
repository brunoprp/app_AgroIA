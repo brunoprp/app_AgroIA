{
 "cells": [
  {
   "cell_type": "code",
   "execution_count": 3,
   "id": "varied-vocabulary",
   "metadata": {},
   "outputs": [],
   "source": [
    "import tensorflow as tf\n",
    "from tensorflow.keras.models import load_model\n",
    "import pathlib\n",
    "import cv2\n",
    "import numpy as np"
   ]
  },
  {
   "cell_type": "code",
   "execution_count": 8,
   "id": "structured-venue",
   "metadata": {},
   "outputs": [],
   "source": [
    "filepath = \"saved_model/best-model-NormalxDoente/model\"\n",
    "#model = load_model(filepath, compile = True)"
   ]
  },
  {
   "cell_type": "code",
   "execution_count": 9,
   "id": "adopted-velvet",
   "metadata": {},
   "outputs": [],
   "source": [
    "\n",
    "converter = tf.lite.TFLiteConverter.from_saved_model(filepath)\n",
    "converter.optimizations = [tf.lite.Optimize.DEFAULT]\n",
    "tflite_quant_model = converter.convert()"
   ]
  },
  {
   "cell_type": "code",
   "execution_count": 10,
   "id": "matched-advocate",
   "metadata": {},
   "outputs": [],
   "source": [
    "tflite_models_dir = pathlib.Path(\"tflite_models/\")\n",
    "tflite_models_dir.mkdir(exist_ok=True, parents=True)"
   ]
  },
  {
   "cell_type": "code",
   "execution_count": 11,
   "id": "burning-strengthening",
   "metadata": {},
   "outputs": [
    {
     "data": {
      "text/plain": [
       "2803312"
      ]
     },
     "execution_count": 11,
     "metadata": {},
     "output_type": "execute_result"
    }
   ],
   "source": [
    "tflite_model_quant_file = tflite_models_dir/\"normaXdoente_model_quant.tflite\"\n",
    "tflite_model_quant_file.write_bytes(tflite_quant_model)"
   ]
  },
  {
   "cell_type": "code",
   "execution_count": 2,
   "id": "thorough-baking",
   "metadata": {},
   "outputs": [],
   "source": [
    "interpreter_quant = tf.lite.Interpreter(model_path=\"tflite_models/normaXdoente_model_quant.tflite\")\n",
    "interpreter_quant.allocate_tensors()"
   ]
  },
  {
   "cell_type": "code",
   "execution_count": 5,
   "id": "flexible-turner",
   "metadata": {},
   "outputs": [],
   "source": [
    "#doente_00.JPG\n",
    "#milho_normal_1.jpg\n",
    "img_test = cv2.imread(\"doente_00.jpg\")\n",
    "img_test = cv2.resize(img_test, (128, 128))\n",
    "img_test = img_test.astype('float32')/255\n",
    "\n",
    "# Classe 0 = Normal\n",
    "# Classe 1 = Doente\n",
    "\n",
    "img_test = np.array(img_test)\n",
    "img_test = img_test.reshape(1, 128, 128, 3)"
   ]
  },
  {
   "cell_type": "code",
   "execution_count": 8,
   "id": "explicit-glance",
   "metadata": {},
   "outputs": [],
   "source": [
    "input_index = interpreter_quant.get_input_details()[0][\"index\"]\n",
    "output_index = interpreter_quant.get_output_details()[0][\"index\"]\n",
    "\n",
    "interpreter_quant.set_tensor(input_index, img_test)\n",
    "interpreter_quant.invoke()\n",
    "predictions = interpreter_quant.get_tensor(output_index)\n",
    "\n",
    "\n"
   ]
  },
  {
   "cell_type": "code",
   "execution_count": 9,
   "id": "dress-thread",
   "metadata": {},
   "outputs": [
    {
     "data": {
      "text/plain": [
       "array([[5.786448e-10, 1.000000e+00]], dtype=float32)"
      ]
     },
     "execution_count": 9,
     "metadata": {},
     "output_type": "execute_result"
    }
   ],
   "source": [
    "predictions"
   ]
  },
  {
   "cell_type": "code",
   "execution_count": 10,
   "id": "experimental-scoop",
   "metadata": {},
   "outputs": [
    {
     "name": "stdout",
     "output_type": "stream",
     "text": [
      "1.0\n",
      "1\n"
     ]
    }
   ],
   "source": [
    "voalor_certeza = np.max(predictions)\n",
    "classe = np.argmax(predictions)\n",
    "print(voalor_certeza)\n",
    "print(classe)"
   ]
  },
  {
   "cell_type": "code",
   "execution_count": null,
   "id": "contemporary-dayton",
   "metadata": {},
   "outputs": [],
   "source": []
  }
 ],
 "metadata": {
  "kernelspec": {
   "display_name": "Python 3",
   "language": "python",
   "name": "python3"
  },
  "language_info": {
   "codemirror_mode": {
    "name": "ipython",
    "version": 3
   },
   "file_extension": ".py",
   "mimetype": "text/x-python",
   "name": "python",
   "nbconvert_exporter": "python",
   "pygments_lexer": "ipython3",
   "version": "3.8.8"
  }
 },
 "nbformat": 4,
 "nbformat_minor": 5
}
