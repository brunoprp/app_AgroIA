{
 "cells": [
  {
   "cell_type": "code",
   "execution_count": 10,
   "id": "quiet-married",
   "metadata": {},
   "outputs": [],
   "source": [
    "from tensorflow.keras.models import load_model\n",
    "import cv2\n",
    "import numpy as np"
   ]
  },
  {
   "cell_type": "code",
   "execution_count": 3,
   "id": "unavailable-mediterranean",
   "metadata": {},
   "outputs": [],
   "source": [
    "filepath = \"saved_model/best-model-NormalxDoente/model\"\n",
    "model = load_model(filepath, compile = True)"
   ]
  },
  {
   "cell_type": "code",
   "execution_count": 18,
   "id": "proper-gravity",
   "metadata": {},
   "outputs": [],
   "source": [
    "#doente_00.JPG\n",
    "#milho_normal_1.jpg\n",
    "img_test = cv2.imread(\"doente_00.jpg\")\n",
    "img_test = cv2.resize(img_test, (128, 128))\n",
    "img_test = img_test.astype('float32')/255"
   ]
  },
  {
   "cell_type": "code",
   "execution_count": 19,
   "id": "soviet-findings",
   "metadata": {},
   "outputs": [
    {
     "name": "stdout",
     "output_type": "stream",
     "text": [
      "1.0\n",
      "1\n"
     ]
    }
   ],
   "source": [
    "# Classe 0 = Normal\n",
    "# Classe 1 = Doente\n",
    "\n",
    "img_test = np.array(img_test)\n",
    "img_test = img_test.reshape(1, 128, 128, 3)\n",
    "result = model.predict(img_test)\n",
    "voalor_certeza = np.max(result)\n",
    "classe = np.argmax(result)\n",
    "print(voalor_certeza)\n",
    "print(classe)"
   ]
  },
  {
   "cell_type": "code",
   "execution_count": null,
   "id": "cordless-morrison",
   "metadata": {},
   "outputs": [],
   "source": []
  }
 ],
 "metadata": {
  "kernelspec": {
   "display_name": "Python 3",
   "language": "python",
   "name": "python3"
  },
  "language_info": {
   "codemirror_mode": {
    "name": "ipython",
    "version": 3
   },
   "file_extension": ".py",
   "mimetype": "text/x-python",
   "name": "python",
   "nbconvert_exporter": "python",
   "pygments_lexer": "ipython3",
   "version": "3.8.8"
  }
 },
 "nbformat": 4,
 "nbformat_minor": 5
}
